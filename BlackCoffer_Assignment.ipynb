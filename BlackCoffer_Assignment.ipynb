{
  "nbformat": 4,
  "nbformat_minor": 0,
  "metadata": {
    "colab": {
      "provenance": [],
      "authorship_tag": "ABX9TyMn9Un7cd6EljHdXqZFweBL",
      "include_colab_link": true
    },
    "kernelspec": {
      "name": "python3",
      "display_name": "Python 3"
    },
    "language_info": {
      "name": "python"
    }
  },
  "cells": [
    {
      "cell_type": "markdown",
      "metadata": {
        "id": "view-in-github",
        "colab_type": "text"
      },
      "source": [
        "<a href=\"https://colab.research.google.com/github/Akshat-Math/BlackCoffer_Assignment_Solution/blob/main/BlackCoffer_Assignment.ipynb\" target=\"_parent\"><img src=\"https://colab.research.google.com/assets/colab-badge.svg\" alt=\"Open In Colab\"/></a>"
      ]
    },
    {
      "cell_type": "code",
      "source": [
        "!pip install textstat"
      ],
      "metadata": {
        "colab": {
          "base_uri": "https://localhost:8080/"
        },
        "id": "4v85oMOBCm5G",
        "outputId": "7e761bda-478b-414e-9f32-08179f21d543"
      },
      "execution_count": null,
      "outputs": [
        {
          "output_type": "stream",
          "name": "stdout",
          "text": [
            "Requirement already satisfied: textstat in /usr/local/lib/python3.10/dist-packages (0.7.3)\n",
            "Requirement already satisfied: pyphen in /usr/local/lib/python3.10/dist-packages (from textstat) (0.14.0)\n"
          ]
        }
      ]
    },
    {
      "cell_type": "code",
      "source": [
        "from bs4 import BeautifulSoup\n",
        "import requests\n",
        "import pandas as pd\n",
        "import string\n",
        "import nltk\n",
        "from textblob import TextBlob as tb\n",
        "import textstat as ts\n",
        "import re"
      ],
      "metadata": {
        "id": "fU7uArENywJb"
      },
      "execution_count": null,
      "outputs": []
    },
    {
      "cell_type": "code",
      "source": [
        "headers = {\"User-Agent\": \"google chrome\"}"
      ],
      "metadata": {
        "id": "iWNcHwW5tVmJ"
      },
      "execution_count": null,
      "outputs": []
    },
    {
      "cell_type": "code",
      "source": [
        "request = requests.get(\"\", headers=headers)"
      ],
      "metadata": {
        "id": "LAYsPbWYjn82"
      },
      "execution_count": null,
      "outputs": []
    },
    {
      "cell_type": "code",
      "source": [
        "data = BeautifulSoup(request.content, 'html.parser')"
      ],
      "metadata": {
        "id": "dQ1DuXOFzLxv"
      },
      "execution_count": null,
      "outputs": []
    },
    {
      "cell_type": "code",
      "source": [
        "heading = data.find(\"div\",class_ = \"Entry_Class\").text.replace('\\n' , \" \")\n",
        "heading"
      ],
      "metadata": {
        "id": "XmQi9rYYniHW"
      },
      "execution_count": null,
      "outputs": []
    },
    {
      "cell_type": "code",
      "source": [
        "heading_no_punct = heading.translate(str.maketrans('', '', string.punctuation))\n",
        "print(heading_no_punct)"
      ],
      "metadata": {
        "id": "DDpCSgRRniNl"
      },
      "execution_count": null,
      "outputs": []
    },
    {
      "cell_type": "code",
      "source": [
        "nltk.download('punkt')"
      ],
      "metadata": {
        "id": "PG6yXI4wzWYk"
      },
      "execution_count": null,
      "outputs": []
    },
    {
      "cell_type": "code",
      "source": [
        "tokens = nltk.word_tokenize(heading_no_punct)\n",
        "print(tokens)"
      ],
      "metadata": {
        "id": "QVoYhOIOniTs"
      },
      "execution_count": null,
      "outputs": []
    },
    {
      "cell_type": "code",
      "source": [
        "nltk.download('stopwords')"
      ],
      "metadata": {
        "id": "C3yoBrijzab5"
      },
      "execution_count": null,
      "outputs": []
    },
    {
      "cell_type": "code",
      "source": [
        "stop_words = set(nltk.corpus.stopwords.words('english'))\n",
        "heading_no_stopwords = ' '.join(word for word in heading_no_punct.split() if word.lower() not in stop_words)\n",
        "print(heading_no_stopwords)"
      ],
      "metadata": {
        "id": "v-i5VlJY1rVn"
      },
      "execution_count": null,
      "outputs": []
    },
    {
      "cell_type": "code",
      "source": [
        "re.split(r'[?!.]', heading_no_stopwords)"
      ],
      "metadata": {
        "id": "vxIREznTGBZ7"
      },
      "execution_count": null,
      "outputs": []
    },
    {
      "cell_type": "code",
      "source": [
        "nltk.download('opinion_lexicon')"
      ],
      "metadata": {
        "id": "fWnrE23ozj0Q"
      },
      "execution_count": null,
      "outputs": []
    },
    {
      "cell_type": "code",
      "source": [
        "#positive words\n",
        "positive_words = set(nltk.corpus.opinion_lexicon.positive())\n",
        "positive_words_in_heading = [word for word in heading_no_stopwords.split() if word.lower() in positive_words]\n",
        "positive = len(positive_words_in_heading)\n",
        "print(positive)"
      ],
      "metadata": {
        "id": "Hk4U9aTW1Pom"
      },
      "execution_count": null,
      "outputs": []
    },
    {
      "cell_type": "code",
      "source": [
        "#negative words\n",
        "negative_words = set(nltk.corpus.opinion_lexicon.negative())\n",
        "negative_words_in_heading = [word for word in heading_no_stopwords.split() if word.lower() in negative_words]\n",
        "negative = len(negative_words_in_heading)\n",
        "print(negative)"
      ],
      "metadata": {
        "id": "AHSSd79C1Pul"
      },
      "execution_count": null,
      "outputs": []
    },
    {
      "cell_type": "code",
      "source": [
        "joined_text = ' '.join(tokens)"
      ],
      "metadata": {
        "id": "sAj3t12H1Pzx"
      },
      "execution_count": null,
      "outputs": []
    },
    {
      "cell_type": "code",
      "source": [
        "#polarity and subjectivity\n",
        "blob = tb(heading_no_stopwords)\n",
        "polarity = blob.sentiment.polarity\n",
        "subjectivity = blob.sentiment.subjectivity\n",
        "\n",
        "print(\"Polarity:\", polarity)\n",
        "\n",
        "print(\"Subjectivity:\", subjectivity)"
      ],
      "metadata": {
        "id": "bWTflPPIniZM"
      },
      "execution_count": null,
      "outputs": []
    },
    {
      "cell_type": "code",
      "source": [
        "#average sentence length\n",
        "sentences = nltk.sent_tokenize(heading_no_stopwords)\n",
        "total_words = sum(len(nltk.word_tokenize(sentence)) for sentence in sentences)\n",
        "average_sentence_length = total_words / len(sentences)\n",
        "\n",
        "print(\"Average_sentence_length:\", average_sentence_length)"
      ],
      "metadata": {
        "id": "f1RXz7MB64cp"
      },
      "execution_count": null,
      "outputs": []
    },
    {
      "cell_type": "code",
      "source": [
        "#word_count\n",
        "word_count = len(heading_no_punct)\n",
        "word_count"
      ],
      "metadata": {
        "id": "r48VFncz82xM"
      },
      "execution_count": null,
      "outputs": []
    },
    {
      "cell_type": "code",
      "source": [
        "#complex_word_percentage\n",
        "complex_words = sum(1 for sentence in sentences for word in nltk.word_tokenize(sentence) if ts.syllable_count(word) >= 3)\n",
        "complex_word_percentage = (complex_words/word_count)*100\n",
        "complex_word_percentage"
      ],
      "metadata": {
        "id": "9cOMu_j564kI"
      },
      "execution_count": null,
      "outputs": []
    },
    {
      "cell_type": "code",
      "source": [
        "#fog_index\n",
        "fog_index = 0.4 * (average_sentence_length + (100.0 * complex_words / len(sentences)))\n",
        "fog_index"
      ],
      "metadata": {
        "id": "8a1gO_AD64qC"
      },
      "execution_count": null,
      "outputs": []
    },
    {
      "cell_type": "code",
      "source": [
        "#Average number of works per sentence\n",
        "Average_words_per_sentence = [len(l.split()) for l in re.split(r'[?!.]', heading) if l.strip()]\n",
        "Average_words_per_sentence=print(sum(Average_words_per_sentence)/len(Average_words_per_sentence))"
      ],
      "metadata": {
        "id": "PmOT3-FpGnnW"
      },
      "execution_count": null,
      "outputs": []
    },
    {
      "cell_type": "code",
      "source": [
        "#syllables_per_word\n",
        "syllables_per_word = sum(ts.syllable_count(word) for word in nltk.word_tokenize(heading_no_stopwords)) / total_words\n",
        "syllables_per_word"
      ],
      "metadata": {
        "id": "nnONT2FK-C8w"
      },
      "execution_count": null,
      "outputs": []
    },
    {
      "cell_type": "code",
      "source": [
        "nltk.download('averaged_perceptron_tagger')"
      ],
      "metadata": {
        "id": "a8hkzyHKzuxh"
      },
      "execution_count": null,
      "outputs": []
    },
    {
      "cell_type": "code",
      "source": [
        "#personal_pronouns_count\n",
        "personal_pronouns = [word for sentence in sentences for word, pos in nltk.pos_tag(nltk.word_tokenize(sentence)) if pos == 'PRP']\n",
        "personal_pronouns_count = len(personal_pronouns)\n",
        "personal_pronouns_count"
      ],
      "metadata": {
        "id": "OZpMOcQg-DFg"
      },
      "execution_count": null,
      "outputs": []
    },
    {
      "cell_type": "code",
      "source": [
        "#average_word_length\n",
        "word_lengths = [len(word) for word in nltk.word_tokenize(heading_no_stopwords)]\n",
        "average_word_length = sum(word_lengths) / total_words\n",
        "average_word_length"
      ],
      "metadata": {
        "id": "HoRuMu7j-DNM"
      },
      "execution_count": null,
      "outputs": []
    },
    {
      "cell_type": "code",
      "source": [
        "data_df = pd.DataFrame([[positive,negative,polarity,subjectivity,average_sentence_length,complex_word_percentage,fog_index,Average_words_per_sentence,complex_words,word_count,syllables_per_word,personal_pronouns_count,average_word_length]],\n",
        "                       columns=['Positive Score' , 'Negative Score','Polarity','Subjectivity','Average sentence length','Percentage of complex words','FOG index','Average words per sentence','Complex word count','Word Count','Syllables per word','personal pronouns count','average word length'])"
      ],
      "metadata": {
        "id": "ogIr__j5Auzu"
      },
      "execution_count": null,
      "outputs": []
    },
    {
      "cell_type": "code",
      "source": [
        "from google.colab import drive"
      ],
      "metadata": {
        "id": "oFd5zrzEAvE-"
      },
      "execution_count": null,
      "outputs": []
    },
    {
      "cell_type": "code",
      "source": [
        "drive.mount('/content/drive')"
      ],
      "metadata": {
        "id": "dJbObiOwI3tR"
      },
      "execution_count": null,
      "outputs": []
    },
    {
      "cell_type": "code",
      "source": [
        "output_file = \"/content/drive/My Drive/Output_Data_Structure9.xlsx\"\n",
        "data_df.to_excel(output_file, index=False)"
      ],
      "metadata": {
        "id": "unEgzCfFJFN0"
      },
      "execution_count": null,
      "outputs": []
    }
  ]
}